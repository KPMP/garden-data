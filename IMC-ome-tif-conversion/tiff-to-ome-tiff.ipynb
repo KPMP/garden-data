{
 "cells": [
  {
   "cell_type": "code",
   "execution_count": 4,
   "id": "63e27568-721d-4975-a2f8-19946bb721d4",
   "metadata": {},
   "outputs": [],
   "source": [
    "from tifffile import TiffWriter, imread\n",
    "import pandas as pd\n",
    "import os\n",
    "import sys"
   ]
  },
  {
   "cell_type": "code",
   "execution_count": 5,
   "id": "607a7286-e74d-46b0-a684-a5394e840e64",
   "metadata": {},
   "outputs": [],
   "source": [
    "from os.path import join\n",
    "directory = '/Users/nathancreger/KPMP/garden-data/IMC-ome-tif-conversion/example-conversion/IMC_image_info'"
   ]
  },
  {
   "cell_type": "code",
   "execution_count": 6,
   "id": "b8faf805-e0a0-47bd-beb4-35cf035e8236",
   "metadata": {},
   "outputs": [
    {
     "name": "stdout",
     "output_type": "stream",
     "text": [
      "Direcotry is not valid\n"
     ]
    },
    {
     "ename": "SystemExit",
     "evalue": "",
     "output_type": "error",
     "traceback": [
      "An exception has occurred, use %tb to see the full traceback.\n",
      "\u001b[0;31mSystemExit\u001b[0m\n"
     ]
    },
    {
     "name": "stderr",
     "output_type": "stream",
     "text": [
      "/Users/nathancreger/Library/Python/3.9/lib/python/site-packages/IPython/core/interactiveshell.py:3558: UserWarning: To exit: use 'exit', 'quit', or Ctrl-D.\n",
      "  warn(\"To exit: use 'exit', 'quit', or Ctrl-D.\", stacklevel=1)\n"
     ]
    }
   ],
   "source": [
    "channel_names = None\n",
    "if os.path.isdir(directory):\n",
    "  for filename in os.scandir(directory):\n",
    "    extension = os.path.splitext(filename)[1]\n",
    "    if extension == \".tiff\":\n",
    "      img_path = join(\"raw\", filename.path)\n",
    "      output_path = join(\"processed\", os.path.splitext(filename)[0] + \".ome\" + extension)\n",
    "    elif extension == \".txt\":\n",
    "      channel_names_path = join(\"raw\", filename.path)\n",
    "      df = pd.read_csv(channel_names_path, sep=\"\\t\")\n",
    "      channel_names = df['Label'].tolist()\n",
    "    else:\n",
    "      print(\"Only .tiff and .txt files are supported.\")\n",
    "      sys.exit()\n",
    "    img_arr = imread(img_path)\n",
    "    img_arr.shape\n",
    "    img_arr.dtype\n",
    "    \n",
    "    tiff_writer = TiffWriter(output_path, ome=True)\n",
    "    tiff_writer.write(\n",
    "      img_arr,\n",
    "      metadata={\n",
    "          'axes': \"CYX\",\n",
    "          'Channel': {'Name': channel_names},\n",
    "      }\n",
    "    )\n",
    "    tiff_writer.close()\n",
    "    \n",
    "else:\n",
    "  print('Direcotry is not valid')\n",
    "  sys.exit()"
   ]
  }
 ],
 "metadata": {
  "kernelspec": {
   "display_name": "Python 3 (ipykernel)",
   "language": "python",
   "name": "python3"
  },
  "language_info": {
   "codemirror_mode": {
    "name": "ipython",
    "version": 3
   },
   "file_extension": ".py",
   "mimetype": "text/x-python",
   "name": "python",
   "nbconvert_exporter": "python",
   "pygments_lexer": "ipython3",
   "version": "3.9.6"
  }
 },
 "nbformat": 4,
 "nbformat_minor": 5
}
