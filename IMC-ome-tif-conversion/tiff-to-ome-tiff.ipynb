{
 "cells": [
  {
   "cell_type": "code",
   "execution_count": 1,
   "metadata": {},
   "outputs": [
    {
     "name": "stderr",
     "output_type": "stream",
     "text": [
      "/var/folders/72/7jycg6k913514_4xsmlg04l80000gn/T/ipykernel_64826/2284410859.py:2: DeprecationWarning: \n",
      "Pyarrow will become a required dependency of pandas in the next major release of pandas (pandas 3.0),\n",
      "(to allow more performant data types, such as the Arrow string type, and better interoperability with other libraries)\n",
      "but was not found to be installed on your system.\n",
      "If this would cause problems for you,\n",
      "please provide us feedback at https://github.com/pandas-dev/pandas/issues/54466\n",
      "        \n",
      "  import pandas as pd\n"
     ]
    }
   ],
   "source": [
    "from tifffile import TiffWriter, imread\n",
    "import pandas as pd\n",
    "import os\n",
    "import sys\n",
    "from os.path import join\n",
    "\n",
    "directory = \"/Users/nathancreger/KPMP/garden-data/IMC-ome-tif-conversion/IMC_image_info\"\n",
    "if os.path.isdir(directory):\n",
    "\n",
    "  channel_names = None\n",
    "  for filename in os.scandir(directory):\n",
    "    extension = os.path.splitext(filename)[1]\n",
    "    if extension == \".tiff\":\n",
    "      img_path = join(\"raw\", filename.path)\n",
    "      output_path = join(\"processed\", os.path.splitext(filename)[0] + \".ome\" + extension)\n",
    "    elif extension == \".txt\":\n",
    "      channel_names_path = join(\"raw\", filename.path)\n",
    "      df = pd.read_csv(channel_names_path, sep=\"\\t\")\n",
    "      channel_names = df['Label'].tolist()\n",
    "    else:\n",
    "      print(\"Only .tiff and .txt files are supported.\")\n",
    "      sys.exit()\n",
    "    img_arr = imread(img_path)\n",
    "    img_arr.shape\n",
    "    img_arr.dtype\n",
    "    \n",
    "    tiff_writer = TiffWriter(output_path, ome=True)\n",
    "    tiff_writer.write(\n",
    "      img_arr,\n",
    "      metadata={\n",
    "          'axes': \"CYX\",\n",
    "          'Channel': {'Name': channel_names},\n",
    "      }\n",
    "    )\n",
    "    tiff_writer.close()\n",
    "    \n",
    "else:\n",
    "  print('Directory is not valid')\n",
    "  sys.exit()"
   ]
  }
 ],
 "metadata": {
  "kernelspec": {
   "display_name": "Python 3",
   "language": "python",
   "name": "python3"
  },
  "language_info": {
   "codemirror_mode": {
    "name": "ipython",
    "version": 3
   },
   "file_extension": ".py",
   "mimetype": "text/x-python",
   "name": "python",
   "nbconvert_exporter": "python",
   "pygments_lexer": "ipython3",
   "version": "3.9.6"
  }
 },
 "nbformat": 4,
 "nbformat_minor": 2
}
